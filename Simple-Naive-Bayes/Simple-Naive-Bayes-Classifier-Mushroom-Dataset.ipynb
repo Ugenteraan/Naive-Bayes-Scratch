{
 "cells": [
  {
   "cell_type": "markdown",
   "id": "a0affa7f",
   "metadata": {},
   "source": [
    "# Simple Naive Bayes Classifier from Scratch"
   ]
  },
  {
   "cell_type": "code",
   "execution_count": 1,
   "id": "8a9add07",
   "metadata": {},
   "outputs": [],
   "source": [
    "import pandas as pd\n",
    "import numpy as np\n",
    "import matplotlib.pyplot as plt\n",
    "import seaborn as sns\n",
    "from sklearn.model_selection import train_test_split"
   ]
  },
  {
   "cell_type": "markdown",
   "id": "32b6c8a1",
   "metadata": {},
   "source": [
    "## Data Load and Inspection"
   ]
  },
  {
   "cell_type": "code",
   "execution_count": 2,
   "id": "f4390ac0",
   "metadata": {},
   "outputs": [],
   "source": [
    "mushroom_df = pd.read_csv('mushrooms.csv')"
   ]
  },
  {
   "cell_type": "code",
   "execution_count": 3,
   "id": "a416edbe",
   "metadata": {},
   "outputs": [
    {
     "data": {
      "text/html": [
       "<div>\n",
       "<style scoped>\n",
       "    .dataframe tbody tr th:only-of-type {\n",
       "        vertical-align: middle;\n",
       "    }\n",
       "\n",
       "    .dataframe tbody tr th {\n",
       "        vertical-align: top;\n",
       "    }\n",
       "\n",
       "    .dataframe thead th {\n",
       "        text-align: right;\n",
       "    }\n",
       "</style>\n",
       "<table border=\"1\" class=\"dataframe\">\n",
       "  <thead>\n",
       "    <tr style=\"text-align: right;\">\n",
       "      <th></th>\n",
       "      <th>class</th>\n",
       "      <th>cap-shape</th>\n",
       "      <th>cap-surface</th>\n",
       "      <th>cap-color</th>\n",
       "      <th>bruises</th>\n",
       "      <th>odor</th>\n",
       "      <th>gill-attachment</th>\n",
       "      <th>gill-spacing</th>\n",
       "      <th>gill-size</th>\n",
       "      <th>gill-color</th>\n",
       "      <th>...</th>\n",
       "      <th>stalk-surface-below-ring</th>\n",
       "      <th>stalk-color-above-ring</th>\n",
       "      <th>stalk-color-below-ring</th>\n",
       "      <th>veil-type</th>\n",
       "      <th>veil-color</th>\n",
       "      <th>ring-number</th>\n",
       "      <th>ring-type</th>\n",
       "      <th>spore-print-color</th>\n",
       "      <th>population</th>\n",
       "      <th>habitat</th>\n",
       "    </tr>\n",
       "  </thead>\n",
       "  <tbody>\n",
       "    <tr>\n",
       "      <th>0</th>\n",
       "      <td>p</td>\n",
       "      <td>x</td>\n",
       "      <td>s</td>\n",
       "      <td>n</td>\n",
       "      <td>t</td>\n",
       "      <td>p</td>\n",
       "      <td>f</td>\n",
       "      <td>c</td>\n",
       "      <td>n</td>\n",
       "      <td>k</td>\n",
       "      <td>...</td>\n",
       "      <td>s</td>\n",
       "      <td>w</td>\n",
       "      <td>w</td>\n",
       "      <td>p</td>\n",
       "      <td>w</td>\n",
       "      <td>o</td>\n",
       "      <td>p</td>\n",
       "      <td>k</td>\n",
       "      <td>s</td>\n",
       "      <td>u</td>\n",
       "    </tr>\n",
       "    <tr>\n",
       "      <th>1</th>\n",
       "      <td>e</td>\n",
       "      <td>x</td>\n",
       "      <td>s</td>\n",
       "      <td>y</td>\n",
       "      <td>t</td>\n",
       "      <td>a</td>\n",
       "      <td>f</td>\n",
       "      <td>c</td>\n",
       "      <td>b</td>\n",
       "      <td>k</td>\n",
       "      <td>...</td>\n",
       "      <td>s</td>\n",
       "      <td>w</td>\n",
       "      <td>w</td>\n",
       "      <td>p</td>\n",
       "      <td>w</td>\n",
       "      <td>o</td>\n",
       "      <td>p</td>\n",
       "      <td>n</td>\n",
       "      <td>n</td>\n",
       "      <td>g</td>\n",
       "    </tr>\n",
       "    <tr>\n",
       "      <th>2</th>\n",
       "      <td>e</td>\n",
       "      <td>b</td>\n",
       "      <td>s</td>\n",
       "      <td>w</td>\n",
       "      <td>t</td>\n",
       "      <td>l</td>\n",
       "      <td>f</td>\n",
       "      <td>c</td>\n",
       "      <td>b</td>\n",
       "      <td>n</td>\n",
       "      <td>...</td>\n",
       "      <td>s</td>\n",
       "      <td>w</td>\n",
       "      <td>w</td>\n",
       "      <td>p</td>\n",
       "      <td>w</td>\n",
       "      <td>o</td>\n",
       "      <td>p</td>\n",
       "      <td>n</td>\n",
       "      <td>n</td>\n",
       "      <td>m</td>\n",
       "    </tr>\n",
       "    <tr>\n",
       "      <th>3</th>\n",
       "      <td>p</td>\n",
       "      <td>x</td>\n",
       "      <td>y</td>\n",
       "      <td>w</td>\n",
       "      <td>t</td>\n",
       "      <td>p</td>\n",
       "      <td>f</td>\n",
       "      <td>c</td>\n",
       "      <td>n</td>\n",
       "      <td>n</td>\n",
       "      <td>...</td>\n",
       "      <td>s</td>\n",
       "      <td>w</td>\n",
       "      <td>w</td>\n",
       "      <td>p</td>\n",
       "      <td>w</td>\n",
       "      <td>o</td>\n",
       "      <td>p</td>\n",
       "      <td>k</td>\n",
       "      <td>s</td>\n",
       "      <td>u</td>\n",
       "    </tr>\n",
       "    <tr>\n",
       "      <th>4</th>\n",
       "      <td>e</td>\n",
       "      <td>x</td>\n",
       "      <td>s</td>\n",
       "      <td>g</td>\n",
       "      <td>f</td>\n",
       "      <td>n</td>\n",
       "      <td>f</td>\n",
       "      <td>w</td>\n",
       "      <td>b</td>\n",
       "      <td>k</td>\n",
       "      <td>...</td>\n",
       "      <td>s</td>\n",
       "      <td>w</td>\n",
       "      <td>w</td>\n",
       "      <td>p</td>\n",
       "      <td>w</td>\n",
       "      <td>o</td>\n",
       "      <td>e</td>\n",
       "      <td>n</td>\n",
       "      <td>a</td>\n",
       "      <td>g</td>\n",
       "    </tr>\n",
       "  </tbody>\n",
       "</table>\n",
       "<p>5 rows × 23 columns</p>\n",
       "</div>"
      ],
      "text/plain": [
       "  class cap-shape cap-surface cap-color bruises odor gill-attachment  \\\n",
       "0     p         x           s         n       t    p               f   \n",
       "1     e         x           s         y       t    a               f   \n",
       "2     e         b           s         w       t    l               f   \n",
       "3     p         x           y         w       t    p               f   \n",
       "4     e         x           s         g       f    n               f   \n",
       "\n",
       "  gill-spacing gill-size gill-color  ... stalk-surface-below-ring  \\\n",
       "0            c         n          k  ...                        s   \n",
       "1            c         b          k  ...                        s   \n",
       "2            c         b          n  ...                        s   \n",
       "3            c         n          n  ...                        s   \n",
       "4            w         b          k  ...                        s   \n",
       "\n",
       "  stalk-color-above-ring stalk-color-below-ring veil-type veil-color  \\\n",
       "0                      w                      w         p          w   \n",
       "1                      w                      w         p          w   \n",
       "2                      w                      w         p          w   \n",
       "3                      w                      w         p          w   \n",
       "4                      w                      w         p          w   \n",
       "\n",
       "  ring-number ring-type spore-print-color population habitat  \n",
       "0           o         p                 k          s       u  \n",
       "1           o         p                 n          n       g  \n",
       "2           o         p                 n          n       m  \n",
       "3           o         p                 k          s       u  \n",
       "4           o         e                 n          a       g  \n",
       "\n",
       "[5 rows x 23 columns]"
      ]
     },
     "execution_count": 3,
     "metadata": {},
     "output_type": "execute_result"
    }
   ],
   "source": [
    "mushroom_df.head()"
   ]
  },
  {
   "cell_type": "code",
   "execution_count": 4,
   "id": "fbceda3f",
   "metadata": {},
   "outputs": [
    {
     "data": {
      "text/plain": [
       "array(['p', 'e'], dtype=object)"
      ]
     },
     "execution_count": 4,
     "metadata": {},
     "output_type": "execute_result"
    }
   ],
   "source": [
    "unique_classes = mushroom_df['class'].unique()\n",
    "unique_classes"
   ]
  },
  {
   "cell_type": "code",
   "execution_count": 5,
   "id": "45e08487",
   "metadata": {},
   "outputs": [
    {
     "name": "stderr",
     "output_type": "stream",
     "text": [
      "/opt/homebrew/Caskroom/miniforge/base/envs/nasa/lib/python3.8/site-packages/seaborn/_decorators.py:36: FutureWarning: Pass the following variable as a keyword arg: x. From version 0.12, the only valid positional argument will be `data`, and passing other arguments without an explicit keyword will result in an error or misinterpretation.\n",
      "  warnings.warn(\n"
     ]
    },
    {
     "data": {
      "image/png": "[encoded data removed]",
      "text/plain": [
       "<Figure size 432x288 with 1 Axes>"
      ]
     },
     "metadata": {
      "needs_background": "light"
     },
     "output_type": "display_data"
    }
   ],
   "source": [
    "sns.countplot(mushroom_df['class'])\n",
    "plt.show()"
   ]
  },
  {
   "cell_type": "code",
   "execution_count": 6,
   "id": "4570f7a6",
   "metadata": {},
   "outputs": [],
   "source": [
    "X = mushroom_df.drop('class', axis=1)\n",
    "y = mushroom_df['class']\n",
    "feature_columns = X.columns"
   ]
  },
  {
   "cell_type": "code",
   "execution_count": 7,
   "id": "29ea5669",
   "metadata": {},
   "outputs": [],
   "source": [
    "#stratify \n",
    "X_train, X_test, y_train, y_test = train_test_split(X, y, test_size=0.3, random_state=125)\n",
    "\n",
    "X_train = X_train.reset_index(drop=True)\n",
    "y_train = y_train.reset_index(drop=True)\n",
    "X_test = X_test.reset_index(drop=True)\n",
    "y_test = y_test.reset_index(drop=True)"
   ]
  },
  {
   "cell_type": "code",
   "execution_count": 8,
   "id": "a73114f5",
   "metadata": {},
   "outputs": [
    {
     "name": "stdout",
     "output_type": "stream",
     "text": [
      "Number of train and test data:  5686 2438\n"
     ]
    }
   ],
   "source": [
    "print(\"Number of train and test data: \", len(X_train), len(X_test))"
   ]
  },
  {
   "cell_type": "code",
   "execution_count": 9,
   "id": "9b2ae684",
   "metadata": {},
   "outputs": [
    {
     "name": "stderr",
     "output_type": "stream",
     "text": [
      "/var/folders/lc/0svhcdcn6pd728qrzry78cj00000gn/T/ipykernel_40316/104829099.py:8: UserWarning: Matplotlib is currently using module://matplotlib_inline.backend_inline, which is a non-GUI backend, so cannot show the figure.\n",
      "  fig.show()\n"
     ]
    },
    {
     "data": {
      "image/png": "[encoded data removed]",
      "text/plain": [
       "<Figure size 216x432 with 2 Axes>"
      ]
     },
     "metadata": {
      "needs_background": "light"
     },
     "output_type": "display_data"
    }
   ],
   "source": [
    "fig, (ax1,ax2) = plt.subplots(2, figsize=(3,6))\n",
    "\n",
    "ax1.hist(y_train, bins=2, linewidth=3, edgecolor=\"white\")\n",
    "ax1.set_title(\"Class Count in Train Data\")\n",
    "ax2.hist(y_test, bins=2, linewidth=3, edgecolor=\"white\")\n",
    "ax2.set_title(\"Class Count in Test Data\")\n",
    "\n",
    "fig.show()"
   ]
  },
  {
   "cell_type": "markdown",
   "id": "7d2623a7",
   "metadata": {},
   "source": [
    "## Naive Bayes Predictor"
   ]
  },
  {
   "cell_type": "code",
   "execution_count": 10,
   "id": "33782465",
   "metadata": {},
   "outputs": [],
   "source": [
    "def likelihood_calc(train_data, train_labels, feature_columns, unique_classes):\n",
    "    '''Here we'll calculate the likelihood and record the probabilities in a copy of the\n",
    "       training dataframe. We'll be returning that dataframe at the end of the func.\n",
    "    '''\n",
    "    \n",
    "    train_record = train_data.copy()\n",
    "    \n",
    "    #Iterate through the classes and calculate the likelihood for each class.\n",
    "    for cls_idx, cls_name in enumerate(unique_classes):\n",
    "        \n",
    "        for feat_idx, feat_name in enumerate(feature_columns):\n",
    "            \n",
    "            #filter the training data based on the class and the column.\n",
    "            filtered_train_df = train_data.loc[train_labels == cls_name, feat_name]\n",
    "            \n",
    "            #identify the unique values and the count of those values from the column.\n",
    "            unique, count = np.unique(filtered_train_df, return_counts=True)\n",
    "            \n",
    "            #calculate the probability & record them in a dictionary (count/total class data)\n",
    "            count_dict = dict(zip(unique, count/len(filtered_train_df)))\n",
    "            \n",
    "            #let's substitute the values for the probabilities.\n",
    "            likelihood_values = train_record.loc[train_labels == cls_name, feat_name]\\\n",
    "                                    .map(count_dict)\n",
    "            indices = likelihood_values.index.tolist()\n",
    "            values = likelihood_values.values\n",
    "            \n",
    "            #record the probabilities in the train record dataframe.\n",
    "            train_record.loc[indices, feat_name] = values\n",
    "    \n",
    "    #for convenience, we'll append the actual class labels in the record.\n",
    "    train_record['class'] = train_labels\n",
    "            \n",
    "    return train_record"
   ]
  },
  {
   "cell_type": "code",
   "execution_count": 11,
   "id": "cdbb9b26",
   "metadata": {},
   "outputs": [],
   "source": [
    "def class_prior_calc(unique_classes, train_record):\n",
    "    '''Calculation of the prior. We'll record the prior values in the train record dataframe\n",
    "       in a separate column. We'll also add the actual class column for convenience.\n",
    "    '''\n",
    "    \n",
    "    train_record['class_prior'] = np.nan\n",
    "    \n",
    "    for cls_idx, cls_name in enumerate(unique_classes):\n",
    "        \n",
    "        total_cls_num = train_record[train_record['class']==cls_name].shape[0]\n",
    "        cls_probability = total_cls_num/train_record.shape[0]\n",
    "        train_record.loc[train_record['class']==cls_name, 'class_prior'] = cls_probability\n",
    "    \n",
    "    return train_record"
   ]
  },
  {
   "cell_type": "code",
   "execution_count": 12,
   "id": "1a63fba2",
   "metadata": {},
   "outputs": [],
   "source": [
    "def cross_reference(test_data, train_record, train_data):\n",
    "    '''Uses the train record to find the location of the features and cross-reference\n",
    "       to the record to find the likelihood.\n",
    "    '''\n",
    "    #compare the test column values with the train column values and find its index.\n",
    "    indices = train_data.index[train_data.isin([test_data])].tolist()\n",
    "    #this occurs if the feature is not present in the train data.\n",
    "    if len(indices) == 0:\n",
    "        return 0\n",
    "    \n",
    "    #we need the [0] because the train data most likely contain duplicates and therefore\n",
    "    #it returns a list of indices. We only need one since all of them are duplicates.\n",
    "    likelihood_prob = train_record.loc[indices[0]] \n",
    "    \n",
    "    return likelihood_prob\n",
    "\n",
    "\n",
    "def calc_posterior_prob_per_row(row, cls_name, train_record):\n",
    "    '''Given the row data of likelihood probabilities, use the class prior from train record\n",
    "       to calculate the posterior probability of a class.\n",
    "    '''\n",
    "    \n",
    "    #filter the class that we want and get its class prior.\n",
    "    #the result of this line will most likely be a huge single-column dataframe with\n",
    "    #duplicate values.\n",
    "    class_prior = train_record[train_record['class'] == cls_name]['class_prior']\n",
    "    class_prior = class_prior.tolist()[0] #hence the indexing.\n",
    "    \n",
    "    likelihood_probs_product = np.prod(row) #multiply the likelihoods of the features.\n",
    "    \n",
    "    posterior_prob = class_prior * likelihood_probs_product #as per our derived N.B. equation\n",
    "    \n",
    "    return posterior_prob\n",
    "    \n",
    "    \n",
    "\n",
    "def calc_posterior_prob(test_data, unique_classes, feature_columns, train_data,\n",
    "                            train_record):\n",
    "    '''Calculate the posterior probability of the test data.\n",
    "    '''\n",
    "    \n",
    "    #we're gonna need a copy of the test dataframe for each class.\n",
    "    test_records = {}\n",
    "    \n",
    "    #cross-refer and identify the likelihood probabilities.\n",
    "    for cls_idx, cls_name in enumerate(unique_classes):\n",
    "        \n",
    "        test_records[cls_name] = test_data.copy()\n",
    "        \n",
    "        #filter the train data and train record according to the classes.\n",
    "        train_data_class_filtered = train_data.loc[train_record['class'] == cls_name]\n",
    "        train_record_class_filtered = train_record.loc[train_record['class'] == cls_name]\n",
    "        \n",
    "        for _, feat_name in enumerate(feature_columns):\n",
    "            \n",
    "            #extract the column data from all 3 dataframes.\n",
    "            test_data_column = test_data[feat_name]\n",
    "            train_data_column = train_data_class_filtered[feat_name]\n",
    "            train_record_column = train_record_class_filtered[feat_name]\n",
    "            \n",
    "            #We're going to identify whether or not the value exist in the train data\n",
    "            #and if it is, we'll cross-reference for it's likelihood probability from\n",
    "            #the train record df. Else, return 0.\n",
    "            test_records[cls_name][feat_name] = test_data_column.apply(\n",
    "                                                        lambda x:cross_reference(\n",
    "                                                        test_data=x,\n",
    "                                                        train_record=train_record_column,\n",
    "                                                        train_data=train_data_column))\n",
    "    \n",
    "    #calculate the posterior probability.\n",
    "    for cls_idx, cls_name in enumerate(unique_classes):\n",
    "        \n",
    "        test_records[cls_name]['posterior'] = test_records[cls_name].apply(\n",
    "                                                    lambda x: calc_posterior_prob_per_row(\n",
    "                                                        row=x, cls_name=cls_name, \n",
    "                                                        train_record=train_record), axis=1)\n",
    "        \n",
    "            \n",
    "    return test_records"
   ]
  },
  {
   "cell_type": "code",
   "execution_count": 13,
   "id": "f094ae67",
   "metadata": {},
   "outputs": [],
   "source": [
    "def get_max_class_prediction(test_records, unique_classes):\n",
    "    '''Given the posterior probabilities of all classes, find the highest prob.\n",
    "    '''\n",
    "    predictions = {}\n",
    "    \n",
    "    for cls_idx, cls_name in enumerate(unique_classes):\n",
    "        \n",
    "        predictions[cls_name] = test_records[cls_name]['posterior']\n",
    "    \n",
    "    predictions = pd.DataFrame.from_dict(predictions)\n",
    "    max_preds = predictions.idxmax(axis=1)\n",
    "    \n",
    "    return max_preds"
   ]
  },
  {
   "cell_type": "code",
   "execution_count": 14,
   "id": "80f7f3e1",
   "metadata": {},
   "outputs": [],
   "source": [
    "def check_accuracy(predictions, actual_labels):\n",
    "    '''Compare the predictions with the test labels.\n",
    "    '''\n",
    "    \n",
    "    comparison = predictions == actual_labels\n",
    "    accuracy = comparison.sum()/len(actual_labels) * 100\n",
    "    \n",
    "    return accuracy"
   ]
  },
  {
   "cell_type": "code",
   "execution_count": 15,
   "id": "1c46b946",
   "metadata": {},
   "outputs": [],
   "source": [
    "train_record = likelihood_calc(train_data=X_train,\n",
    "                train_labels=y_train,\n",
    "                feature_columns=feature_columns,\n",
    "                unique_classes=unique_classes)"
   ]
  },
  {
   "cell_type": "code",
   "execution_count": 16,
   "id": "0f267fe0",
   "metadata": {},
   "outputs": [],
   "source": [
    "train_record = class_prior_calc(unique_classes=unique_classes,\n",
    "                                train_record=train_record)"
   ]
  },
  {
   "cell_type": "code",
   "execution_count": 17,
   "id": "cf3a1a02",
   "metadata": {},
   "outputs": [
    {
     "data": {
      "text/html": [
       "<div>\n",
       "<style scoped>\n",
       "    .dataframe tbody tr th:only-of-type {\n",
       "        vertical-align: middle;\n",
       "    }\n",
       "\n",
       "    .dataframe tbody tr th {\n",
       "        vertical-align: top;\n",
       "    }\n",
       "\n",
       "    .dataframe thead th {\n",
       "        text-align: right;\n",
       "    }\n",
       "</style>\n",
       "<table border=\"1\" class=\"dataframe\">\n",
       "  <thead>\n",
       "    <tr style=\"text-align: right;\">\n",
       "      <th></th>\n",
       "      <th>cap-shape</th>\n",
       "      <th>cap-surface</th>\n",
       "      <th>cap-color</th>\n",
       "      <th>bruises</th>\n",
       "      <th>odor</th>\n",
       "      <th>gill-attachment</th>\n",
       "      <th>gill-spacing</th>\n",
       "      <th>gill-size</th>\n",
       "      <th>gill-color</th>\n",
       "      <th>stalk-shape</th>\n",
       "      <th>...</th>\n",
       "      <th>stalk-color-below-ring</th>\n",
       "      <th>veil-type</th>\n",
       "      <th>veil-color</th>\n",
       "      <th>ring-number</th>\n",
       "      <th>ring-type</th>\n",
       "      <th>spore-print-color</th>\n",
       "      <th>population</th>\n",
       "      <th>habitat</th>\n",
       "      <th>class</th>\n",
       "      <th>class_prior</th>\n",
       "    </tr>\n",
       "  </thead>\n",
       "  <tbody>\n",
       "    <tr>\n",
       "      <th>0</th>\n",
       "      <td>0.154736</td>\n",
       "      <td>0.36081</td>\n",
       "      <td>0.22162</td>\n",
       "      <td>0.836587</td>\n",
       "      <td>0.553145</td>\n",
       "      <td>0.994577</td>\n",
       "      <td>0.969631</td>\n",
       "      <td>0.564353</td>\n",
       "      <td>0.43167</td>\n",
       "      <td>0.507954</td>\n",
       "      <td>...</td>\n",
       "      <td>0.320318</td>\n",
       "      <td>1.0</td>\n",
       "      <td>0.997469</td>\n",
       "      <td>0.971439</td>\n",
       "      <td>0.443601</td>\n",
       "      <td>0.455531</td>\n",
       "      <td>0.718727</td>\n",
       "      <td>0.152928</td>\n",
       "      <td>p</td>\n",
       "      <td>0.486458</td>\n",
       "    </tr>\n",
       "    <tr>\n",
       "      <th>1</th>\n",
       "      <td>0.396602</td>\n",
       "      <td>0.36081</td>\n",
       "      <td>0.22162</td>\n",
       "      <td>0.836587</td>\n",
       "      <td>0.139913</td>\n",
       "      <td>0.994577</td>\n",
       "      <td>0.969631</td>\n",
       "      <td>0.564353</td>\n",
       "      <td>0.43167</td>\n",
       "      <td>0.507954</td>\n",
       "      <td>...</td>\n",
       "      <td>0.436732</td>\n",
       "      <td>1.0</td>\n",
       "      <td>0.997469</td>\n",
       "      <td>0.971439</td>\n",
       "      <td>0.443601</td>\n",
       "      <td>0.455531</td>\n",
       "      <td>0.718727</td>\n",
       "      <td>0.249819</td>\n",
       "      <td>p</td>\n",
       "      <td>0.486458</td>\n",
       "    </tr>\n",
       "    <tr>\n",
       "      <th>2</th>\n",
       "      <td>0.154736</td>\n",
       "      <td>0.36081</td>\n",
       "      <td>0.255965</td>\n",
       "      <td>0.836587</td>\n",
       "      <td>0.553145</td>\n",
       "      <td>0.994577</td>\n",
       "      <td>0.969631</td>\n",
       "      <td>0.564353</td>\n",
       "      <td>0.43167</td>\n",
       "      <td>0.507954</td>\n",
       "      <td>...</td>\n",
       "      <td>0.436732</td>\n",
       "      <td>1.0</td>\n",
       "      <td>0.997469</td>\n",
       "      <td>0.971439</td>\n",
       "      <td>0.443601</td>\n",
       "      <td>0.455531</td>\n",
       "      <td>0.718727</td>\n",
       "      <td>0.249819</td>\n",
       "      <td>p</td>\n",
       "      <td>0.486458</td>\n",
       "    </tr>\n",
       "    <tr>\n",
       "      <th>3</th>\n",
       "      <td>0.013015</td>\n",
       "      <td>0.444685</td>\n",
       "      <td>0.023138</td>\n",
       "      <td>0.163413</td>\n",
       "      <td>0.032899</td>\n",
       "      <td>0.994577</td>\n",
       "      <td>0.969631</td>\n",
       "      <td>0.435647</td>\n",
       "      <td>0.006508</td>\n",
       "      <td>0.492046</td>\n",
       "      <td>...</td>\n",
       "      <td>0.436732</td>\n",
       "      <td>1.0</td>\n",
       "      <td>0.997469</td>\n",
       "      <td>0.0188</td>\n",
       "      <td>0.215835</td>\n",
       "      <td>0.0188</td>\n",
       "      <td>0.718727</td>\n",
       "      <td>0.008315</td>\n",
       "      <td>p</td>\n",
       "      <td>0.486458</td>\n",
       "    </tr>\n",
       "    <tr>\n",
       "      <th>4</th>\n",
       "      <td>0.388014</td>\n",
       "      <td>0.358219</td>\n",
       "      <td>0.300685</td>\n",
       "      <td>0.655479</td>\n",
       "      <td>0.807877</td>\n",
       "      <td>0.953767</td>\n",
       "      <td>0.715411</td>\n",
       "      <td>0.933904</td>\n",
       "      <td>0.205137</td>\n",
       "      <td>0.614384</td>\n",
       "      <td>...</td>\n",
       "      <td>0.635616</td>\n",
       "      <td>1.0</td>\n",
       "      <td>0.953767</td>\n",
       "      <td>0.87363</td>\n",
       "      <td>0.74863</td>\n",
       "      <td>0.421918</td>\n",
       "      <td>0.278425</td>\n",
       "      <td>0.445205</td>\n",
       "      <td>e</td>\n",
       "      <td>0.513542</td>\n",
       "    </tr>\n",
       "  </tbody>\n",
       "</table>\n",
       "<p>5 rows × 24 columns</p>\n",
       "</div>"
      ],
      "text/plain": [
       "  cap-shape cap-surface cap-color   bruises      odor gill-attachment  \\\n",
       "0  0.154736     0.36081   0.22162  0.836587  0.553145        0.994577   \n",
       "1  0.396602     0.36081   0.22162  0.836587  0.139913        0.994577   \n",
       "2  0.154736     0.36081  0.255965  0.836587  0.553145        0.994577   \n",
       "3  0.013015    0.444685  0.023138  0.163413  0.032899        0.994577   \n",
       "4  0.388014    0.358219  0.300685  0.655479  0.807877        0.953767   \n",
       "\n",
       "  gill-spacing gill-size gill-color stalk-shape  ... stalk-color-below-ring  \\\n",
       "0     0.969631  0.564353    0.43167    0.507954  ...               0.320318   \n",
       "1     0.969631  0.564353    0.43167    0.507954  ...               0.436732   \n",
       "2     0.969631  0.564353    0.43167    0.507954  ...               0.436732   \n",
       "3     0.969631  0.435647   0.006508    0.492046  ...               0.436732   \n",
       "4     0.715411  0.933904   0.205137    0.614384  ...               0.635616   \n",
       "\n",
       "  veil-type veil-color ring-number ring-type spore-print-color population  \\\n",
       "0       1.0   0.997469    0.971439  0.443601          0.455531   0.718727   \n",
       "1       1.0   0.997469    0.971439  0.443601          0.455531   0.718727   \n",
       "2       1.0   0.997469    0.971439  0.443601          0.455531   0.718727   \n",
       "3       1.0   0.997469      0.0188  0.215835            0.0188   0.718727   \n",
       "4       1.0   0.953767     0.87363   0.74863          0.421918   0.278425   \n",
       "\n",
       "    habitat class class_prior  \n",
       "0  0.152928     p    0.486458  \n",
       "1  0.249819     p    0.486458  \n",
       "2  0.249819     p    0.486458  \n",
       "3  0.008315     p    0.486458  \n",
       "4  0.445205     e    0.513542  \n",
       "\n",
       "[5 rows x 24 columns]"
      ]
     },
     "execution_count": 17,
     "metadata": {},
     "output_type": "execute_result"
    }
   ],
   "source": [
    "train_record.head()"
   ]
  },
  {
   "cell_type": "code",
   "execution_count": 18,
   "id": "643d5580",
   "metadata": {},
   "outputs": [],
   "source": [
    "test_records = calc_posterior_prob(test_data=X_test, unique_classes=unique_classes,\n",
    "                    feature_columns=feature_columns, \n",
    "                   train_data=X_train,\n",
    "                   train_record=train_record)"
   ]
  },
  {
   "cell_type": "code",
   "execution_count": 19,
   "id": "404ec9dd",
   "metadata": {},
   "outputs": [],
   "source": [
    "predictions = get_max_class_prediction(test_records=test_records,\n",
    "                                       unique_classes=unique_classes)"
   ]
  },
  {
   "cell_type": "code",
   "execution_count": 20,
   "id": "66759c3c",
   "metadata": {},
   "outputs": [
    {
     "data": {
      "text/plain": [
       "0    e\n",
       "1    p\n",
       "2    e\n",
       "3    e\n",
       "4    e\n",
       "dtype: object"
      ]
     },
     "execution_count": 20,
     "metadata": {},
     "output_type": "execute_result"
    }
   ],
   "source": [
    "predictions.head()"
   ]
  },
  {
   "cell_type": "code",
   "execution_count": 23,
   "id": "b6c7a8af",
   "metadata": {},
   "outputs": [],
   "source": [
    "accuracy = check_accuracy(predictions=predictions,\n",
    "                          actual_labels=y_test)"
   ]
  },
  {
   "cell_type": "code",
   "execution_count": 24,
   "id": "7a6d0367",
   "metadata": {},
   "outputs": [
    {
     "name": "stdout",
     "output_type": "stream",
     "text": [
      "The accuracy of the predictions is:  99.79491386382281\n"
     ]
    }
   ],
   "source": [
    "print(\"The accuracy of the predictions is: \", accuracy)"
   ]
  }
 ],
 "metadata": {
  "kernelspec": {
   "display_name": "nasa",
   "language": "python",
   "name": "nasa"
  },
  "language_info": {
   "codemirror_mode": {
    "name": "ipython",
    "version": 3
   },
   "file_extension": ".py",
   "mimetype": "text/x-python",
   "name": "python",
   "nbconvert_exporter": "python",
   "pygments_lexer": "ipython3",
   "version": "3.8.12"
  },
  "toc": {
   "base_numbering": 1,
   "nav_menu": {},
   "number_sections": true,
   "sideBar": true,
   "skip_h1_title": true,
   "title_cell": "Table of Contents",
   "title_sidebar": "Contents",
   "toc_cell": false,
   "toc_position": {},
   "toc_section_display": true,
   "toc_window_display": false
  }
 },
 "nbformat": 4,
 "nbformat_minor": 5
}
